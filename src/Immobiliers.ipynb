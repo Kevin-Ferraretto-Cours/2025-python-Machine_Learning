{
 "cells": [
  {
   "cell_type": "markdown",
   "id": "1bfe288edf75fcab",
   "metadata": {},
   "source": [
    "# Install required libraries\n",
    "To install the required libraries from the requirements file, use the following command:\n",
    "\"pip install -r requirements.txt\""
   ]
  },
  {
   "cell_type": "markdown",
   "id": "c53642eda9ec2b9a",
   "metadata": {},
   "source": [
    "# 0. Initialization"
   ]
  },
  {
   "cell_type": "code",
   "id": "initial_id",
   "metadata": {
    "collapsed": true
   },
   "source": [
    "import numpy as np # a library for numerical computations and handling arrays\n",
    "import pandas as pd #  a library for data manipulation and analysis, often used for handling tabular data\n",
    "\n",
    "# Visualisation Library\n",
    "import matplotlib.pyplot as plt # module for data visualization through plots and charts\n",
    "import seaborn as sns # a data visualization library built on Matplotlib, offering advanced plotting functions and attractive visual styles\n",
    "import matplotlib.ticker as ticker\n",
    "# Classification continous\n",
    "from sklearn.tree import DecisionTreeClassifier\n",
    "from sklearn.ensemble import RandomForestClassifier\n",
    "\n",
    "# Classification Categorial\n",
    "from sklearn.neighbors import KNeighborsClassifier\n",
    "from sklearn.linear_model import LogisticRegression\n",
    "from sklearn.naive_bayes import GaussianNB\n",
    "from sklearn import svm\n",
    "\n",
    "# Processing Classification\n",
    "from sklearn.model_selection import train_test_split\n",
    "from sklearn import metrics\n",
    "\n",
    "# avoid displaying warnings\n",
    "import warnings\n",
    "warnings.filterwarnings(\"ignore\")"
   ],
   "outputs": [],
   "execution_count": null
  },
  {
   "cell_type": "markdown",
   "id": "8e7ee4e4c7bc577a",
   "metadata": {},
   "source": [
    "# 1. Collecte the Data"
   ]
  },
  {
   "cell_type": "code",
   "id": "85551d7dbe9fb0a6",
   "metadata": {},
   "source": [
    "# Load the dataset from the specified path\n",
    "data = pd.read_csv(\"../data/G3_immobiliers.csv\")"
   ],
   "outputs": [],
   "execution_count": null
  },
  {
   "cell_type": "markdown",
   "id": "cbf45a371c705860",
   "metadata": {},
   "source": [
    "# 2. Data Cleaning and Preparation"
   ]
  },
  {
   "cell_type": "code",
   "id": "66be6389cb011278",
   "metadata": {},
   "source": [
    "# Display the first 10 rows of the dataset to understand its structure\n",
    "data.head(10)"
   ],
   "outputs": [],
   "execution_count": null
  },
  {
   "cell_type": "code",
   "id": "1337ba17f41d05c7",
   "metadata": {},
   "source": [
    "# Display dataset information including column names, data types, and missing values\n",
    "data.info()"
   ],
   "outputs": [],
   "execution_count": null
  },
  {
   "cell_type": "code",
   "id": "ca484119e4f3beda",
   "metadata": {},
   "source": [
    "# Get statistical summaries of numerical columns\n",
    "data.describe()"
   ],
   "outputs": [],
   "execution_count": null
  },
  {
   "cell_type": "code",
   "id": "a5c993b7adf5ad4f",
   "metadata": {},
   "source": [
    "# Check the total number of missing values in each column\n",
    "data.isnull().sum()"
   ],
   "outputs": [],
   "execution_count": null
  },
  {
   "cell_type": "code",
   "id": "221b46483afa7508",
   "metadata": {},
   "source": [
    "# Drop unnecessary columns that are not useful for predictive modeling\n",
    "df_data = data[[\"valeur_fonciere\", \"date_mutation\",  # Price and transaction date\n",
    "    \"code_postal\", \"code_commune\", \"nom_commune\", \"code_departement\",  # Location\n",
    "    \"longitude\", \"latitude\",  # GPS coordinates\n",
    "    \"type_local\", \"surface_reelle_bati\", \"nombre_pieces_principales\",  # Goods characteristics\n",
    "    \"surface_terrain\", \"nature_culture\"  # Land characteristics\n",
    "]]"
   ],
   "outputs": [],
   "execution_count": null
  },
  {
   "cell_type": "code",
   "id": "12a3aa7aa381f636",
   "metadata": {},
   "source": [
    "# Convert \"valeur_fonciere\" column to numeric, forcing errors to NaN\n",
    "df_data[\"valeur_fonciere\"] = pd.to_numeric(df_data[\"valeur_fonciere\"], errors=\"coerce\")\n",
    "# Remove rows where \"valeur_fonciere\" is missing\n",
    "df_data = df_data.dropna(subset=[\"valeur_fonciere\"])"
   ],
   "outputs": [],
   "execution_count": null
  },
  {
   "metadata": {},
   "cell_type": "code",
   "source": [
    "# Convert \"surface_reelle_bati\" column to numeric, forcing errors to NaN\n",
    "df_data[\"surface_reelle_bati\"] = pd.to_numeric(df_data[\"surface_reelle_bati\"], errors=\"coerce\")\n",
    "# Remove rows where \"surface_reelle_bati\" is missing\n",
    "df_data = df_data.dropna(subset=[\"surface_reelle_bati\"])"
   ],
   "id": "225a23d537f78fbf",
   "outputs": [],
   "execution_count": null
  },
  {
   "cell_type": "code",
   "id": "bcb29ca28761f282",
   "metadata": {},
   "source": [
    "# Remove rows with more than 50% missing values\n",
    "df_data = df_data.dropna(thresh=len(df_data.columns) * 0.5)"
   ],
   "outputs": [],
   "execution_count": null
  },
  {
   "cell_type": "code",
   "id": "8c53a15702f6e760",
   "metadata": {},
   "source": [
    "# Fill missing values in numerical columns with the median\n",
    "# Convert numerical columns to float type (forcing errors to NaN)\n",
    "cols_num = [\"surface_reelle_bati\", \"surface_terrain\", \"nombre_pieces_principales\", \"valeur_fonciere\"]\n",
    "for col in cols_num:\n",
    "    df_data[col] = pd.to_numeric(df_data[col], errors=\"coerce\")  # Convert to float\n",
    "    df_data[col] = df_data[col].fillna(df_data[col].median())  # Replace NaN with median"
   ],
   "outputs": [],
   "execution_count": null
  },
  {
   "cell_type": "code",
   "id": "a0a4f50ce0fd55f1",
   "metadata": {},
   "source": [
    "# Fill missing values in categorical columns with \"Unknown\"\n",
    "cols_cat = [\"type_local\", \"nature_culture\"]\n",
    "for col in cols_cat:\n",
    "    df_data[col] = df_data[col].fillna(\"Unknown\")"
   ],
   "outputs": [],
   "execution_count": null
  },
  {
   "cell_type": "code",
   "id": "f88580bdf2021b5c",
   "metadata": {},
   "source": [
    "# Convert categorical variables into dummy/indicator variables (One-Hot Encoding)\n",
    "df_data = pd.get_dummies(df_data, columns=[\"type_local\", \"nature_culture\"], drop_first=True)"
   ],
   "outputs": [],
   "execution_count": null
  },
  {
   "cell_type": "code",
   "id": "9c6e126f3ba7ec28",
   "metadata": {},
   "source": [
    "# Display the first 10 rows after cleaning and transformation\n",
    "df_data.head(10)"
   ],
   "outputs": [],
   "execution_count": null
  },
  {
   "cell_type": "code",
   "id": "36bd8a4ab9ddd504",
   "metadata": {},
   "source": [
    "# Display dataset information after cleaning and transformation\n",
    "df_data.info()"
   ],
   "outputs": [],
   "execution_count": null
  },
  {
   "metadata": {},
   "cell_type": "markdown",
   "source": "# 3. Distribution des Prix Immobiliers",
   "id": "96f6519534c79731"
  },
  {
   "cell_type": "code",
   "id": "b2ccca48",
   "metadata": {},
   "source": [
    "# Distribution des prix immobiliers\n",
    "plt.figure(figsize=(8, 5))\n",
    "sns.histplot(df_data[df_data.valeur_fonciere <= 1e6].valeur_fonciere, bins=50, kde=True)\n",
    "plt.title(\"Distribution des valeurs foncières\")\n",
    "plt.xlabel(\"Prix (€)\")\n",
    "plt.ylabel(\"Nombre de transactions\")\n",
    "plt.gca().xaxis.set_major_formatter(ticker.FuncFormatter(lambda x, pos: f'{x:,.0f}'))\n",
    "plt.show()"
   ],
   "outputs": [],
   "execution_count": null
  },
  {
   "metadata": {},
   "cell_type": "markdown",
   "source": "# 4. Visualisation des Relations entre Surface et Prix par Type de Bien",
   "id": "52a6b065459dfb00"
  },
  {
   "metadata": {},
   "cell_type": "code",
   "source": [
    "# Obtenir les types de biens uniques\n",
    "unique_types = df_data.columns[df_data.columns.str.startswith(\"type_local_\")]\n",
    "\n",
    "# Créer un graphique distinct pour chaque type de bien\n",
    "for type_col in unique_types:\n",
    "    type_name = type_col.replace(\"type_local_\", \"\")  # Extraire le nom du type de bien\n",
    "    subset = df_data[(df_data[type_col] == 1) & (df_data.surface_reelle_bati <= 4000) & (df_data.valeur_fonciere <= 1e6)]  # Filtrer les données\n",
    "\n",
    "    # Vérifier si le sous-ensemble contient des données\n",
    "    if not subset.empty:\n",
    "        plt.figure(figsize=(8, 5))\n",
    "        sns.scatterplot(x=subset.surface_reelle_bati, y=subset.valeur_fonciere)\n",
    "        plt.title(f\"Relation entre Surface Habitable et Prix pour {type_name}\")\n",
    "        plt.xlabel(\"Surface habitable (m²)\")\n",
    "        plt.ylabel(\"Prix (€)\")\n",
    "        plt.show()"
   ],
   "id": "5cc61c8ec82fbf09",
   "outputs": [],
   "execution_count": null
  },
  {
   "metadata": {},
   "cell_type": "code",
   "source": [
    "# Répartition des types de biens\n",
    "plt.figure(figsize=(6, 4))\n",
    "\n",
    "# Extraire les noms des types de biens\n",
    "type_local_columns = [col for col in df_data.columns if col.startswith(\"type_local_\")]\n",
    "\n",
    "# Compter le nombre d'occurrences pour chaque type de bien\n",
    "type_counts = {col.replace(\"type_local_\", \"\"): df_data[col].sum() for col in type_local_columns}\n",
    "\n",
    "# Créer un DataFrame pour la visualisation\n",
    "df_type_counts = pd.DataFrame.from_dict(type_counts, orient=\"index\", columns=[\"count\"]).reset_index()\n",
    "df_type_counts.rename(columns={\"index\": \"type_local\"}, inplace=True)\n",
    "\n",
    "# Tracer le graphique\n",
    "sns.barplot(x=\"type_local\", y=\"count\", data=df_type_counts)\n",
    "plt.title(\"Répartition des types de biens\")\n",
    "plt.xticks(rotation=45)\n",
    "plt.xlabel(\"Type de bien\")\n",
    "plt.ylabel(\"Nombre de transactions\")\n",
    "plt.show()\n"
   ],
   "id": "1c8838de837d9a57",
   "outputs": [],
   "execution_count": null
  }
 ],
 "metadata": {
  "kernelspec": {
   "display_name": "venv",
   "language": "python",
   "name": "python3"
  },
  "language_info": {
   "codemirror_mode": {
    "name": "ipython",
    "version": 3
   },
   "file_extension": ".py",
   "mimetype": "text/x-python",
   "name": "python",
   "nbconvert_exporter": "python",
   "pygments_lexer": "ipython3",
   "version": "3.10.6"
  }
 },
 "nbformat": 4,
 "nbformat_minor": 5
}
